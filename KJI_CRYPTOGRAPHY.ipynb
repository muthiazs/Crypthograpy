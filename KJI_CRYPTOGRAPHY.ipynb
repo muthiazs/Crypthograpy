{
  "cells": [
    {
      "cell_type": "markdown",
      "metadata": {
        "id": "9HfV1JTxAg7H"
      },
      "source": [
        "#**TUGAS KJI - KRIPTOGRAFI**"
      ]
    },
    {
      "cell_type": "markdown",
      "metadata": {
        "id": "-rCeu--QAIry"
      },
      "source": [
        "#**ANGGOTA KELOMPOK :**\n",
        "\n",
        "\n",
        "---\n",
        "\n",
        "\n",
        "1. Muthia Zhafira Sahnah (24060122130071)\n",
        "\n",
        "2. Tirza Aurellia Wijaya (24060122130047)\n",
        "\n",
        "3. Adinda Rizka Hamdasati (24060122140139)\n",
        "\n",
        "4. Arifatul Mayya Kholidha (24060122120003)\n",
        "\n",
        "5. Muflih Muhammad Imaduddin (24060122140103)\n",
        "\n",
        "\n",
        "---\n",
        "\n",
        "\n",
        "Informatika KJI - D"
      ]
    },
    {
      "cell_type": "markdown",
      "metadata": {
        "id": "eV-Lr9PLw9GN"
      },
      "source": [
        "#**KONSEP CAESAR CIPHER UNTUK ENKRIPSI**"
      ]
    },
    {
      "cell_type": "code",
      "execution_count": 1,
      "metadata": {
        "colab": {
          "base_uri": "https://localhost:8080/"
        },
        "id": "I6G5Nw4-xBCQ",
        "outputId": "f345f00a-414a-4612-f127-cd85f6fe88be"
      },
      "outputs": [],
      "source": [
        "#function untuk melakukan enkripsi pesan\n",
        "def cipher_text(plaintext, shift): #memakai 2 parameter, yaitu plaintext yang merujuk pada text yang akan dienkripsi, dan shift yang merujuk pada integer untuk pergeseran\n",
        "    ciphertext = '' #pendeklarasian ciphertext yang berisi kosong dengan tipe string\n",
        "\n",
        "    for char in plaintext: #proses looping untuk setiap char yang ada pada plaintext, termasuk karakter2 khusus seperti spasi, dll\n",
        "        if char.isalpha(): #pengecekan apakah dia alfabet\n",
        "            if char.isupper(): #pengecekan apakah dia huruf besar\n",
        "                ascii = ord('A') #nilai ascii ('A') = 65\n",
        "                #ord itu berfungsi untuk mengubah karakter menjadi integer\n",
        "            else: #kondisi else, dimana char merupakan huruf kecil\n",
        "                ascii = ord('a') #nilai ascii ('a') = 97\n",
        "            ciphertext += chr((ord(char) - ascii + int(shift)) % 26 + ascii) #modulus 26 (% 26) digunakan untuk memastikan penggeseran tidak melebihi batas huruf, berguna untuk memastikan enkripsi tetap bener walau user memasukkan input shift lebih dari 26\n",
        "            #chr itu mengubah integer menjadi karakter\n",
        "        else: #kondisi else, dimana char merupakan spasi, dan karakter khusus lainnya\n",
        "            ciphertext += char #char langsung ditambahkan pada ciphertext, tidak perlu melakukan proses enkripsi\n",
        "\n",
        "    return ciphertext #mengembalikan hasil enkripsi\n",
        "\n",
        "#function untuk melakukan dekripsi ciphertext, proses yang dilakukan mirip dengan enkripsi\n",
        "def plain_text(ciphertext, shift):\n",
        "    decrypted_text = ''\n",
        "\n",
        "    for char in ciphertext:\n",
        "        if char.isalpha():\n",
        "            if char.isupper():\n",
        "                ascii = ord('A')\n",
        "            else:\n",
        "                ascii = ord('a')\n",
        "            decrypted_text += chr((ord(char) - ascii - int(shift)) % 26 + ascii) #shift nya di kurang (-) karena untuk penggeseran mundur ke belakang, mengembalikan karakter asli dari ciphertext\n",
        "        else:\n",
        "            decrypted_text += char\n",
        "\n",
        "    return decrypted_text\n",
        "\n",
        "def main():\n",
        "    print(\"===============KONSEP CAESAR UNTUK ENKRIPSI DAN DEKRIPSI===============\")\n",
        "\n",
        "    message = input(\"\\nMasukkan teks yang akan dienkripsi: \") #input pesan\n",
        "    key = input(\"\\nMasukkan kunci (banyak penggeseran huruf): \") #input kunci\n",
        "\n",
        "    ciphertext = cipher_text(message, key) #menyimpan hasil enkripsi\n",
        "    decrypted_text = plain_text(ciphertext, key) #menyimpan hasil dekripsi\n",
        "\n",
        "    print(\"\\n\\n------ENKRIPSI------\\n\")\n",
        "    print(f\"Encryted Text dengan penggeseran sebanyak {key} huruf: {ciphertext}\\n\") #menampilkan hasil enkripsi\n",
        "\n",
        "    print(\"\\n------DEKRIPSI------\\n\")\n",
        "    print(f\"Decryted Text dengan penggeseran terbalik sebanyak {key} huruf: {decrypted_text}\\n\") #menampilkan hasil dekripsi\n",
        "\n",
        "main() #pemanggilan fungsi main"
      ]
    },
    {
      "cell_type": "markdown",
      "metadata": {
        "id": "k0WWjXSzxLcJ"
      },
      "source": [
        "#**KONSEP MONOALPHABETIC CIPHER UNTUK ENKRIPSI**"
      ]
    },
    {
      "cell_type": "code",
      "execution_count": null,
      "metadata": {
        "colab": {
          "base_uri": "https://localhost:8080/"
        },
        "id": "UtZEGVEXxRkV",
        "outputId": "72a54137-7b80-4b24-9338-39800b1c6687"
      },
      "outputs": [
        {
          "ename": "",
          "evalue": "",
          "output_type": "error",
          "traceback": [
            "\u001b[1;31mRunning cells with 'c:\\Users\\ACER\\AppData\\Local\\Microsoft\\WindowsApps\\python3.10.exe' requires the ipykernel package.\n",
            "\u001b[1;31mRun the following command to install 'ipykernel' into the Python environment. \n",
            "\u001b[1;31mCommand: 'c:/Users/ACER/AppData/Local/Microsoft/WindowsApps/python3.10.exe -m pip install ipykernel -U --user --force-reinstall'"
          ]
        }
      ],
      "source": [
        "import random\n",
        "\n",
        "#function untuk membuat key secara acak\n",
        "def BuatKunci():\n",
        "    alphabet_lower = list('abcdefghijklmnopqrstuvwxyz')\n",
        "    alphabet_upper = list('ABCDEFGHIJKLMNOPQRSTUVWXYZ')\n",
        "\n",
        "    key_lower = list(alphabet_lower)\n",
        "    key_upper = list(alphabet_upper)\n",
        "\n",
        "    random.shuffle(key_lower) #mengacak urutan list alfabet kecil\n",
        "    random.shuffle(key_upper) #mengacak urutan list alfabet besar\n",
        "\n",
        "    return dict(zip(alphabet_lower, key_lower)), dict(zip(alphabet_upper, key_upper))\n",
        "    #zip digunakan untuk menyatukan karakter, dalam konteks diatas, menyatukan alphabet_lower dengan key_lower satu persatu secara menyeluruh kemudian lanjut alphabet_upper dengan key_upper, konsepnya mirip list of list, contoh: [('a','e'), ('b','c'), ..., ('Z','T')]\n",
        "    #nantinya, hasil dari zip tersebut akan dibuat menjadi sebuah dictionary untuk memudahkan pengaksesannya, sehingga hasilnya menjadi {'a': 'e', 'b': 'c', ..., 'Z': 'T'}\n",
        "\n",
        "#function untuk menampilkan kunci pada layar\n",
        "def PrintKunci(key_lower, key_upper):\n",
        "    for lower, upper in zip(key_lower.items(), key_upper.items()): #looping, untuk menampilkan kunci secara berurutan\n",
        "        print(f\"{lower[0]} -> {lower[1]}\\t{upper[0]} -> {upper[1]}\") #menampilkan indeks ke-0, yaitu huruf aslinya, dengan indeks ke-1, yaitu huruf kuncinya, dari huruf kecil terlebih dahulu ke huruf besar\n",
        "\n",
        "#function untuk melakukan enkripsi pesan\n",
        "def cipher_text(plaintext, key_lower, key_upper):\n",
        "    ciphertext = '' #pendeklarasian ciphertext yang berisi kosong dengan tipe string\n",
        "\n",
        "    for char in plaintext: #looping untuk setiap karakter yang ada pada pesan\n",
        "        if char.islower(): #pengecekan apakah karakternya hurufnya kecil\n",
        "            ciphertext += key_lower.get(char, char)\n",
        "            #key_lower.get(char[1], char[2]): char[1] itu merujuk pada huruf yang sekarang sedang diproses/huruf aslinya, char[2] itu merujuk pada apa yang mau dikembalikan jika char[1] itu tidak ada di dalam dict, yang dalam konteks ini akan mengembalikan char[1] jika tidak ada dalam dict, makanya ditulis (char, char) yang berarti sama, contoh yang tidak ada dalam dict seperti spasi, '#', dll, karena dia tidak ada pada dict, maka dia menambahkan char[2] ke dalam ciphertext, yang dimana itu merupakan karakter itu sendiri, jadi kalau semisal char[1] itu ada dalam dict, maka yang ditambahkan ke ciphertext itu kunci/pasangan dari char[1] tersebut\n",
        "        else: #karakternya hurufnya besar\n",
        "            ciphertext += key_upper.get(char, char) #sama seperti sebelumnya, tapi yang diakses dict key_upper, karena karakternya huruf besar, begitu pun untuk yang dekripsi, hanya beda dict nya yang diakses\n",
        "\n",
        "    return ciphertext\n",
        "\n",
        "#function untuk melakukan dekripsi plaintext\n",
        "def plain_text(ciphertext, key_lower, key_upper):\n",
        "    plaintext = ''\n",
        "\n",
        "    reverse_key_lower = {v: k for k, v in key_lower.items()} #membuat dict baru dimana kebalikan dari dict yang ada sebelumnya, yang asli menjadi kunci, dan yang kunci menjadi asli, dari contoh tadi maka menjadi {'e': 'a', 'c': 'b', ..., 'T': 'Z'}\n",
        "    reverse_key_upper = {v: k for k, v in key_upper.items()}\n",
        "\n",
        "    for char in ciphertext:\n",
        "        if char.islower():\n",
        "            plaintext += reverse_key_lower.get(char, char)\n",
        "        else:\n",
        "            plaintext += reverse_key_upper.get(char, char)\n",
        "\n",
        "    return plaintext\n",
        "\n",
        "def main():\n",
        "    print(\"===============KONSEP MONOALPHABETIC UNTUK ENKRIPSI DAN DEKRIPSI===============\")\n",
        "    message = input(\"\\nMasukkan teks yang akan dienkripsi: \") #input pesan\n",
        "    key_lower, key_upper = BuatKunci() #pembuatan kunci\n",
        "\n",
        "    ciphertext = cipher_text(message, key_lower, key_upper) #enkripsi\n",
        "    decrypted_text = plain_text(ciphertext, key_lower, key_upper) #dekripsi\n",
        "\n",
        "    print(\"\\n\\n------ENKRIPSI------\\n\")\n",
        "    print(f\"Encryted Text: {ciphertext}\\n\")\n",
        "    print(\"\\n------DEKRIPSI------\\n\")\n",
        "    print(f\"Decryted Text: {decrypted_text}\\n\")\n",
        "\n",
        "    print(\"\\nMonoalphabetic key:\")\n",
        "    PrintKunci(key_lower,key_upper)\n",
        "\n",
        "main() #pemanggilan fungsi main"
      ]
    },
    {
      "cell_type": "markdown",
      "metadata": {
        "id": "p6Pcj3JmYzTU"
      },
      "source": [
        "#**KONSEP VIGENERE UNTUK ENKRIPSI DAN DEKRIPSI**"
      ]
    },
    {
      "cell_type": "code",
      "execution_count": null,
      "metadata": {
        "colab": {
          "base_uri": "https://localhost:8080/"
        },
        "id": "SgqXusCVoTGZ",
        "outputId": "0fabc650-3b51-48b8-afb1-b7e5320f5f55"
      },
      "outputs": [
        {
          "ename": "",
          "evalue": "",
          "output_type": "error",
          "traceback": [
            "\u001b[1;31mRunning cells with 'c:\\Users\\ACER\\AppData\\Local\\Microsoft\\WindowsApps\\python3.10.exe' requires the ipykernel package.\n",
            "\u001b[1;31mRun the following command to install 'ipykernel' into the Python environment. \n",
            "\u001b[1;31mCommand: 'c:/Users/ACER/AppData/Local/Microsoft/WindowsApps/python3.10.exe -m pip install ipykernel -U --user --force-reinstall'"
          ]
        }
      ],
      "source": [
        "#kunci dibawah ini mengubah key yang diberikan menjadi sepanjang message\n",
        "#contoh message = informatika\n",
        "#key = undip\n",
        "#maka ia akan membuat kunci yang baru menjadi undipundipu\n",
        "def BuatKunci(message: str, key: str) -> str:\n",
        "    key_new = \"\"\n",
        "    j = 0\n",
        "    for i in range(len(message)):\n",
        "        if message[i] == \" \":\n",
        "            key_new += \" \"\n",
        "        else:\n",
        "            key_new += key[j % len(key)]\n",
        "            j += 1\n",
        "    return key_new\n",
        "\n",
        "#fungsi ini akan mengubah message yang diberikan menjadi sebuah chipertext dengan menggunakan teknik vigenere\n",
        "def cipher_text(message: str, key_new: str) -> str:\n",
        "    message = message.upper() # mengubah pesan menjadi uppercase\n",
        "    key_new = key_new.upper() # mengubah nilai kunci menjadi uppercase\n",
        "    cipher_text = [chr((ord(letter) + ord(key_new[i])) % 26 + 65) if letter != \" \" else \" \" for i, letter in enumerate(message)]\n",
        "    return \"\".join(cipher_text) #menggabungkan hasil cipher text dari indeks 0 hingga akhir\n",
        "\n",
        "#fungsi ini dugunakan untuk dekripsi chipertext\n",
        "def plain_text(cipher_text: str, key_new: str) -> str:\n",
        "    cipher_text = cipher_text.upper() # mengubah pesan menjadi uppercase\n",
        "    key_new = key_new.upper() # mengubah nilai kunci menjadi uppercase\n",
        "    plain_text = [chr((ord(letter) - ord(key_new[i])) % 26 + 65) if letter != \" \" else \" \" for i, letter in enumerate(cipher_text)]\n",
        "    return \"\".join(plain_text) #menggabungkan hasil plaintext dari indeks 0 hingga akhir\n",
        "\n",
        "\n",
        "#untuk meminta input dan memberikan output\n",
        "def main() -> None:\n",
        "    print(\"===============KONSEP VIGENERE UNTUK ENKRIPSI DAN DEKRIPSI===============\")\n",
        "    message = input(\"\\nMasukkan teks yang akan dienkripsi: \")\n",
        "    key = input(\"\\nMasukkan kunci yang akan dibuat: \")\n",
        "    key_new = BuatKunci(message, key)\n",
        "    s = cipher_text(message, key_new)\n",
        "    print(\"\\n\\n------ENKRIPSI------\\n\")\n",
        "    print(f\"Encrypted Text = {s}\\n\")\n",
        "    print(\"\\n------DEKRIPSI------\\n\")\n",
        "    print(f\"Decrypted Text = {plain_text(s, key_new)}\\n\")\n",
        "\n",
        "#untuk menjalankan test\n",
        "if __name__ == \"__main__\":\n",
        "    import doctest\n",
        "\n",
        "    doctest.testmod()\n",
        "    main()"
      ]
    },
    {
      "cell_type": "markdown",
      "metadata": {
        "id": "t2lMSik3VKqY"
      },
      "source": [
        "#**KONSEP BEAUFORT UNTUK ENKRIPSI DAN DEKRIPSI**"
      ]
    },
    {
      "cell_type": "code",
      "execution_count": null,
      "metadata": {
        "colab": {
          "base_uri": "https://localhost:8080/"
        },
        "id": "jaBIiS7riUZ1",
        "outputId": "e9fc52b6-f118-422d-f747-aedc954f0963"
      },
      "outputs": [
        {
          "ename": "",
          "evalue": "",
          "output_type": "error",
          "traceback": [
            "\u001b[1;31mRunning cells with 'c:\\Users\\ACER\\AppData\\Local\\Microsoft\\WindowsApps\\python3.10.exe' requires the ipykernel package.\n",
            "\u001b[1;31mRun the following command to install 'ipykernel' into the Python environment. \n",
            "\u001b[1;31mCommand: 'c:/Users/ACER/AppData/Local/Microsoft/WindowsApps/python3.10.exe -m pip install ipykernel -U --user --force-reinstall'"
          ]
        }
      ],
      "source": [
        "#kunci dibawah ini mengubah key yang diberikan menjadi sepanjang message\n",
        "#contoh message = informatika\n",
        "#key = undip\n",
        "#maka ia akan membuat kunci yang baru menjadi undipundipu\n",
        "def BuatKunci(message: str, key: str) -> str:\n",
        "    key_new = \"\"\n",
        "    j = 0\n",
        "    for i in range(len(message)):\n",
        "        if message[i] == \" \":\n",
        "            key_new += \" \"\n",
        "        else:\n",
        "            key_new += key[j % len(key)]\n",
        "            j += 1\n",
        "    return key_new\n",
        "\n",
        "#fungsi ini akan mengubah message yang diberikan menjadi sebuah chipertext dengan menggunakan teknik beaufort\n",
        "def cipher_text(message: str, key_new: str) -> str:\n",
        "    message = message.upper() # mengubah message menjadi uppercase\n",
        "    key_new = key_new.upper() # mengubah nilai kunci baru menjadi uppercase\n",
        "    cipher_text = [chr((ord(key_new[i]) - ord(letter)) % 26 + 65) if letter != \" \" else \" \" for i, letter in enumerate(message)]#mengurangi indeks kunci dengan indeks plaintext lalu dikonversi menjadi character\n",
        "    return \"\".join(cipher_text) #menggabungkan hasil plaintext dari indeks 0 sampai akhir\n",
        "\n",
        "#fungsi ini dugunakan untuk dekripsi chipertext\n",
        "def plain_text(cipher_text: str, key_new: str) -> str:\n",
        "    cipher_text = cipher_text.upper() # mengubah chipertext menjadi uppercase\n",
        "    key_new = key_new.upper() # mengubah kunci baru menjadi uppercase\n",
        "    plain_text = [chr((ord(key_new[i]) - ord(letter)) % 26 + 65) if letter != \" \" else \" \" for i, letter in enumerate(cipher_text)] #mengurangi indeks kunci dengan indeks chipertext lalu dikonversi menjadi character\n",
        "    return \"\".join(plain_text) #menggabungkan hasil plaintext dari indeks 0 sampai akhir\n",
        "\n",
        "#untuk meminta input dan memberikan output\n",
        "def main() -> None:\n",
        "    print(\"===============KONSEP BEAUFORT UNTUK ENKRIPSI DAN DEKRIPSI===============\")\n",
        "    message = input(\"\\nMasukkan teks yang akan dienkripsi: \")\n",
        "    key = input(\"\\nMasukkan kunci yang akan dibuat: \")\n",
        "    key_new = BuatKunci(message, key)\n",
        "    s = cipher_text(message, key_new)\n",
        "    print(\"\\n\\n------ENKRIPSI---------\\n\")\n",
        "    print(f\"Encrypted Text = {s}\\n\")\n",
        "    print(\"\\n------DEKRIPSI---------\\n\")\n",
        "    print(f\"Decrypted Text = {plain_text(s, key_new)}\\n\")\n",
        "\n",
        "#untuk menjalankan test\n",
        "if __name__ == \"__main__\":\n",
        "    import doctest\n",
        "    main()"
      ]
    },
    {
      "cell_type": "markdown",
      "metadata": {
        "id": "VJQDpHeSxPdJ"
      },
      "source": [
        "#**KONSEP AUTOKEY CIPHER UNTUK ENKRIPSI**"
      ]
    },
    {
      "cell_type": "code",
      "execution_count": null,
      "metadata": {
        "colab": {
          "base_uri": "https://localhost:8080/"
        },
        "id": "iAEfW71RxacT",
        "outputId": "830855b3-9ab2-49ad-b914-dc09ed991db5"
      },
      "outputs": [
        {
          "ename": "",
          "evalue": "",
          "output_type": "error",
          "traceback": [
            "\u001b[1;31mRunning cells with 'c:\\Users\\ACER\\AppData\\Local\\Microsoft\\WindowsApps\\python3.10.exe' requires the ipykernel package.\n",
            "\u001b[1;31mRun the following command to install 'ipykernel' into the Python environment. \n",
            "\u001b[1;31mCommand: 'c:/Users/ACER/AppData/Local/Microsoft/WindowsApps/python3.10.exe -m pip install ipykernel -U --user --force-reinstall'"
          ]
        }
      ],
      "source": [
        "def cipher_text(plaintext, key):\n",
        "    key_stream = key\n",
        "    not_alpha_p = 0\n",
        "    not_alpha_k = 0\n",
        "\n",
        "    ciphertext = ''\n",
        "    for i in range(len(plaintext)):\n",
        "        char_p = plaintext[i]\n",
        "\n",
        "        if not key_stream[i].isalpha():\n",
        "            not_alpha_k += 1\n",
        "        char_k = key_stream[i - not_alpha_p + not_alpha_k]\n",
        "\n",
        "        if char_p.isalpha():\n",
        "            if char_p.isupper():\n",
        "                base_p = ord('A')\n",
        "            else:\n",
        "                base_p = ord('a')\n",
        "            if char_k.isupper():\n",
        "                base_k = ord('A')\n",
        "            else:\n",
        "                base_k = ord('a')\n",
        "            shift = ord(char_k) - base_k\n",
        "\n",
        "            encrypted_char = chr((ord(char_p) - base_p + shift) % 26 + base_p)\n",
        "            ciphertext += encrypted_char\n",
        "            key_stream += char_p\n",
        "\n",
        "        else:\n",
        "            ciphertext += char_p\n",
        "            not_alpha_p += 1\n",
        "\n",
        "    return ciphertext\n",
        "\n",
        "def plain_text(ciphertext, key):\n",
        "    key_stream = key\n",
        "    not_alpha_c = 0\n",
        "    not_alpha_k = 0\n",
        "\n",
        "    decrypted_text = ''\n",
        "    for i in range(len(ciphertext)):\n",
        "        char_c = ciphertext[i]\n",
        "\n",
        "        if not key_stream[i].isalpha():\n",
        "            not_alpha_k += 1\n",
        "        char_k = key_stream[i - not_alpha_c + not_alpha_k]\n",
        "\n",
        "        if char_c.isalpha():\n",
        "            if char_c.isupper():\n",
        "                base_c = ord('A')\n",
        "            else:\n",
        "                base_c = ord('a')\n",
        "            if char_k.isupper():\n",
        "                base_k = ord('A')\n",
        "            else:\n",
        "                base_k = ord('a')\n",
        "            shift = ord(char_k) - base_k\n",
        "\n",
        "            decrypted_char = chr((ord(char_c) - base_c - shift) % 26 + base_c)\n",
        "            decrypted_text += decrypted_char\n",
        "            key_stream += decrypted_char\n",
        "\n",
        "        else:\n",
        "            decrypted_text += char_c\n",
        "            not_alpha_c += 1\n",
        "\n",
        "    return decrypted_text\n",
        "\n",
        "def main():\n",
        "    print(\"===============KONSEP AUTOKEY UNTUK ENKRIPSI DAN DEKRIPSI===============\")\n",
        "\n",
        "    message = input(\"\\nMasukkan teks yang akan dienkripsi: \")\n",
        "    key = input(\"\\nMasukkan kunci yang akan dibuat: \")\n",
        "\n",
        "    ciphertext = cipher_text(message, key)\n",
        "    decrypted_text = plain_text(ciphertext, key)\n",
        "\n",
        "    print(\"\\n\\n------ENKRIPSI------\\n\")\n",
        "    print(f\"Encryted Text: {ciphertext}\\n\")\n",
        "\n",
        "    print(\"\\n------DEKRIPSI------\\n\")\n",
        "    print(f\"Decryted Text: {decrypted_text}\\n\")\n",
        "\n",
        "main()"
      ]
    }
  ],
  "metadata": {
    "colab": {
      "provenance": []
    },
    "kernelspec": {
      "display_name": "Python 3",
      "name": "python3"
    },
    "language_info": {
      "codemirror_mode": {
        "name": "ipython",
        "version": 3
      },
      "file_extension": ".py",
      "mimetype": "text/x-python",
      "name": "python",
      "nbconvert_exporter": "python",
      "pygments_lexer": "ipython3",
      "version": "3.10.11"
    }
  },
  "nbformat": 4,
  "nbformat_minor": 0
}
